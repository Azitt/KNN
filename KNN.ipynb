{
 "cells": [
  {
   "cell_type": "code",
   "execution_count": 103,
   "id": "orange-romania",
   "metadata": {},
   "outputs": [],
   "source": [
    "import pandas as pd\n",
    "import numpy as np\n",
    "import matplotlib.pyplot as plt\n",
    "from sklearn import datasets\n",
    "from sklearn.model_selection import train_test_split\n",
    "from sklearn.neighbors import KNeighborsClassifier"
   ]
  },
  {
   "cell_type": "code",
   "execution_count": 62,
   "id": "mysterious-footage",
   "metadata": {},
   "outputs": [],
   "source": [
    "#!head iris.csv"
   ]
  },
  {
   "cell_type": "code",
   "execution_count": 45,
   "id": "median-shoulder",
   "metadata": {},
   "outputs": [],
   "source": [
    "iris = pd.read_csv('iris.csv')"
   ]
  },
  {
   "cell_type": "code",
   "execution_count": 48,
   "id": "alternate-playlist",
   "metadata": {},
   "outputs": [
    {
     "data": {
      "text/html": [
       "<div>\n",
       "<style scoped>\n",
       "    .dataframe tbody tr th:only-of-type {\n",
       "        vertical-align: middle;\n",
       "    }\n",
       "\n",
       "    .dataframe tbody tr th {\n",
       "        vertical-align: top;\n",
       "    }\n",
       "\n",
       "    .dataframe thead th {\n",
       "        text-align: right;\n",
       "    }\n",
       "</style>\n",
       "<table border=\"1\" class=\"dataframe\">\n",
       "  <thead>\n",
       "    <tr style=\"text-align: right;\">\n",
       "      <th></th>\n",
       "      <th>Id</th>\n",
       "      <th>SepalLength[cm]</th>\n",
       "      <th>SepalWidth[cm]</th>\n",
       "      <th>PetalLength[cm]</th>\n",
       "      <th>PetalWidth[cm]</th>\n",
       "      <th>Species</th>\n",
       "      <th>ClassLabel</th>\n",
       "    </tr>\n",
       "  </thead>\n",
       "  <tbody>\n",
       "    <tr>\n",
       "      <th>145</th>\n",
       "      <td>146</td>\n",
       "      <td>6.7</td>\n",
       "      <td>3.0</td>\n",
       "      <td>5.2</td>\n",
       "      <td>2.3</td>\n",
       "      <td>Iris-virginica</td>\n",
       "      <td>2</td>\n",
       "    </tr>\n",
       "    <tr>\n",
       "      <th>146</th>\n",
       "      <td>147</td>\n",
       "      <td>6.3</td>\n",
       "      <td>2.5</td>\n",
       "      <td>5.0</td>\n",
       "      <td>1.9</td>\n",
       "      <td>Iris-virginica</td>\n",
       "      <td>2</td>\n",
       "    </tr>\n",
       "    <tr>\n",
       "      <th>147</th>\n",
       "      <td>148</td>\n",
       "      <td>6.5</td>\n",
       "      <td>3.0</td>\n",
       "      <td>5.2</td>\n",
       "      <td>2.0</td>\n",
       "      <td>Iris-virginica</td>\n",
       "      <td>2</td>\n",
       "    </tr>\n",
       "    <tr>\n",
       "      <th>148</th>\n",
       "      <td>149</td>\n",
       "      <td>6.2</td>\n",
       "      <td>3.4</td>\n",
       "      <td>5.4</td>\n",
       "      <td>2.3</td>\n",
       "      <td>Iris-virginica</td>\n",
       "      <td>2</td>\n",
       "    </tr>\n",
       "    <tr>\n",
       "      <th>149</th>\n",
       "      <td>150</td>\n",
       "      <td>5.9</td>\n",
       "      <td>3.0</td>\n",
       "      <td>5.1</td>\n",
       "      <td>1.8</td>\n",
       "      <td>Iris-virginica</td>\n",
       "      <td>2</td>\n",
       "    </tr>\n",
       "  </tbody>\n",
       "</table>\n",
       "</div>"
      ],
      "text/plain": [
       "      Id  SepalLength[cm]  SepalWidth[cm]  PetalLength[cm]  PetalWidth[cm]  \\\n",
       "145  146              6.7             3.0              5.2             2.3   \n",
       "146  147              6.3             2.5              5.0             1.9   \n",
       "147  148              6.5             3.0              5.2             2.0   \n",
       "148  149              6.2             3.4              5.4             2.3   \n",
       "149  150              5.9             3.0              5.1             1.8   \n",
       "\n",
       "            Species  ClassLabel  \n",
       "145  Iris-virginica           2  \n",
       "146  Iris-virginica           2  \n",
       "147  Iris-virginica           2  \n",
       "148  Iris-virginica           2  \n",
       "149  Iris-virginica           2  "
      ]
     },
     "execution_count": 48,
     "metadata": {},
     "output_type": "execute_result"
    }
   ],
   "source": [
    "int_label ={'Iris-setosa': 0,\n",
    "             'Iris-versicolor': 1,\n",
    "             'Iris-virginica': 2}\n",
    "iris['ClassLabel'] = iris['Species'].map(int_label)\n",
    "iris.tail()"
   ]
  },
  {
   "cell_type": "code",
   "execution_count": 109,
   "id": "crude-vatican",
   "metadata": {},
   "outputs": [],
   "source": [
    "new_iris = iris.rename(columns={'SepalLength[cm]': '1', 'SepalWidth[cm]': '2',\n",
    "                                'PetalLength[cm]': '3', 'PetalWidth[cm]': '4'})\n",
    "\n",
    "y = new_iris['ClassLabel'].values  #accessing the NumPy array embedded in the DataFrame via the .values attribute.\n",
    "X = new_iris[['3','4']].values\n",
    "indices = np.arange(y.shape[0]) # Return evenly spaced values within a given interval"
   ]
  },
  {
   "cell_type": "markdown",
   "id": "whole-scholar",
   "metadata": {},
   "source": [
    "# shuffle train/test data points"
   ]
  },
  {
   "cell_type": "code",
   "execution_count": 86,
   "id": "reported-leonard",
   "metadata": {},
   "outputs": [],
   "source": [
    "# suffle indices\n",
    "rnd = np.random.RandomState(123)\n",
    "shuffled_indices = rnd.permutation(indices)"
   ]
  },
  {
   "cell_type": "code",
   "execution_count": 87,
   "id": "talented-cyprus",
   "metadata": {},
   "outputs": [],
   "source": [
    "X_shuffled, y_shuffled = X[shuffled_indices], y[shuffled_indices]"
   ]
  },
  {
   "cell_type": "code",
   "execution_count": 92,
   "id": "filled-retro",
   "metadata": {},
   "outputs": [],
   "source": [
    "X_train, y_train = X_shuffled[:100], y_shuffled[:100] \n",
    "X_test, y_test = X_shuffled[100:], y_shuffled[100:]"
   ]
  },
  {
   "cell_type": "markdown",
   "id": "mounted-hardware",
   "metadata": {},
   "source": [
    "# doing the same train/test selection with sklearn"
   ]
  },
  {
   "cell_type": "code",
   "execution_count": 110,
   "id": "three-flour",
   "metadata": {},
   "outputs": [
    {
     "name": "stdout",
     "output_type": "stream",
     "text": [
      "X_train/X_test/y_train/y_test sizes : (100, 2) (50, 2) (100,) (50,)\n"
     ]
    }
   ],
   "source": [
    "\n",
    "X_train, X_test, y_train, y_test = train_test_split(X,y, test_size= 0.33,\n",
    "                                                   random_state=123,\n",
    "                                                   shuffle=True)\n",
    "\n",
    "print('X_train/X_test/y_train/y_test sizes :' ,X_train.shape,X_test.shape,y_train.shape,y_test.shape)\n"
   ]
  },
  {
   "cell_type": "code",
   "execution_count": 111,
   "id": "imported-hospital",
   "metadata": {},
   "outputs": [
    {
     "data": {
      "text/plain": [
       "KNeighborsClassifier(n_neighbors=3)"
      ]
     },
     "execution_count": 111,
     "metadata": {},
     "output_type": "execute_result"
    }
   ],
   "source": [
    "knn = KNeighborsClassifier(n_neighbors=3)\n",
    "knn.fit(X_train, y_train)"
   ]
  },
  {
   "cell_type": "code",
   "execution_count": 112,
   "id": "speaking-spyware",
   "metadata": {},
   "outputs": [],
   "source": [
    "y_predict = knn.predict(X_test)"
   ]
  },
  {
   "cell_type": "code",
   "execution_count": 113,
   "id": "matched-meeting",
   "metadata": {},
   "outputs": [
    {
     "name": "stdout",
     "output_type": "stream",
     "text": [
      "Test set accuracy :96.00%\n"
     ]
    }
   ],
   "source": [
    "num_correct_predictions = (y_predict == y_test).sum()\n",
    "accuracy = (num_correct_predictions/y_test.shape[0])*100\n",
    "print(f'Test set accuracy :{accuracy:.2f}%')"
   ]
  },
  {
   "cell_type": "markdown",
   "id": "still-operations",
   "metadata": {},
   "source": [
    "# selecting different features"
   ]
  },
  {
   "cell_type": "code",
   "execution_count": 115,
   "id": "nominated-tolerance",
   "metadata": {},
   "outputs": [
    {
     "name": "stdout",
     "output_type": "stream",
     "text": [
      "Test set accuracy :80.00%\n"
     ]
    }
   ],
   "source": [
    "X2 = new_iris[['1','2']].values\n",
    "X_train2, X_test2, y_train2, y_test2 = train_test_split(X2,y, test_size= 0.33,\n",
    "                                                   random_state=123,\n",
    "                                                   shuffle=True)\n",
    "knn.fit(X_train2, y_train2)\n",
    "y_predict2 = knn.predict(X_test2)\n",
    "num_correct_predictions2 = (y_predict2 == y_test2).sum()\n",
    "accuracy2 = (num_correct_predictions2/y_test2.shape[0])*100\n",
    "print(f'Test set accuracy :{accuracy2:0.2f}%')"
   ]
  },
  {
   "cell_type": "markdown",
   "id": "legitimate-usage",
   "metadata": {},
   "source": [
    "# trying different knn methods"
   ]
  },
  {
   "cell_type": "code",
   "execution_count": 137,
   "id": "second-salem",
   "metadata": {},
   "outputs": [
    {
     "name": "stdout",
     "output_type": "stream",
     "text": [
      "Test set accuracy :96.00%\n"
     ]
    }
   ],
   "source": [
    "knn = KNeighborsClassifier(n_neighbors=3,\n",
    "                           weights = 'uniform',\n",
    "                          p = 2,algorithm = 'brute' )  #algorithm : {'auto', 'ball_tree', 'kd_tree', 'brute'}\n",
    "X2 = new_iris[['3','4']].values\n",
    "X_train2, X_test2, y_train2, y_test2 = train_test_split(X2,y, test_size= 0.33,\n",
    "                                                   random_state=123,\n",
    "                                                   shuffle=True)\n",
    "knn.fit(X_train2, y_train2)\n",
    "y_predict2 = knn.predict(X_test2)\n",
    "num_correct_predictions2 = (y_predict2 == y_test2).sum()\n",
    "accuracy2 = (num_correct_predictions2/y_test2.shape[0])*100\n",
    "print(f'Test set accuracy :{accuracy2:0.2f}%')"
   ]
  },
  {
   "cell_type": "code",
   "execution_count": 138,
   "id": "dress-function",
   "metadata": {},
   "outputs": [],
   "source": [
    "#iris2 = datasets.load_iris()\n",
    "#iris2\n",
    "#np.bincount? help\n",
    "#print(X.shape) # sizeo of array\n",
    "#print(y.shape)\n",
    "#np.bincount(y) #Count number of occurrences of each value in array of non-negative ints"
   ]
  },
  {
   "cell_type": "code",
   "execution_count": null,
   "id": "worthy-slovenia",
   "metadata": {},
   "outputs": [],
   "source": []
  }
 ],
 "metadata": {
  "kernelspec": {
   "display_name": "Python 3",
   "language": "python",
   "name": "python3"
  },
  "language_info": {
   "codemirror_mode": {
    "name": "ipython",
    "version": 3
   },
   "file_extension": ".py",
   "mimetype": "text/x-python",
   "name": "python",
   "nbconvert_exporter": "python",
   "pygments_lexer": "ipython3",
   "version": "3.8.6"
  }
 },
 "nbformat": 4,
 "nbformat_minor": 5
}
